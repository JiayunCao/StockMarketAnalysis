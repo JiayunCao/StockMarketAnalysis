{
  "nbformat": 4,
  "nbformat_minor": 0,
  "metadata": {
    "colab": {
      "name": "Twitter API.ipynb",
      "provenance": [],
      "authorship_tag": "ABX9TyMQp68aFIj+Fat3YH5IgDb6",
      "include_colab_link": true
    },
    "kernelspec": {
      "name": "python3",
      "display_name": "Python 3"
    }
  },
  "cells": [
    {
      "cell_type": "markdown",
      "metadata": {
        "id": "view-in-github",
        "colab_type": "text"
      },
      "source": [
        "<a href=\"https://colab.research.google.com/github/UliksSekiraqa/StockMarketAnalysis/blob/master/Twitter_API.ipynb\" target=\"_parent\"><img src=\"https://colab.research.google.com/assets/colab-badge.svg\" alt=\"Open In Colab\"/></a>"
      ]
    },
    {
      "cell_type": "code",
      "metadata": {
        "id": "IjIZtCEqFHLU",
        "colab_type": "code",
        "colab": {
          "base_uri": "https://localhost:8080/",
          "height": 182
        },
        "outputId": "5e9680f6-33db-4db0-96f9-2ad1476bbd2e"
      },
      "source": [
        "!pip install GetOldTweets3"
      ],
      "execution_count": 2,
      "outputs": [
        {
          "output_type": "stream",
          "text": [
            "Collecting GetOldTweets3\n",
            "  Downloading https://files.pythonhosted.org/packages/ed/f4/a00c2a7c90801abc875325bb5416ce9090ac86d06a00cc887131bd73ba45/GetOldTweets3-0.0.11-py3-none-any.whl\n",
            "Collecting pyquery>=1.2.10\n",
            "  Downloading https://files.pythonhosted.org/packages/78/43/95d42e386c61cb639d1a0b94f0c0b9f0b7d6b981ad3c043a836c8b5bc68b/pyquery-1.4.1-py2.py3-none-any.whl\n",
            "Requirement already satisfied: lxml>=3.5.0 in /usr/local/lib/python3.6/dist-packages (from GetOldTweets3) (4.2.6)\n",
            "Collecting cssselect>0.7.9\n",
            "  Downloading https://files.pythonhosted.org/packages/3b/d4/3b5c17f00cce85b9a1e6f91096e1cc8e8ede2e1be8e96b87ce1ed09e92c5/cssselect-1.1.0-py2.py3-none-any.whl\n",
            "Installing collected packages: cssselect, pyquery, GetOldTweets3\n",
            "Successfully installed GetOldTweets3-0.0.11 cssselect-1.1.0 pyquery-1.4.1\n"
          ],
          "name": "stdout"
        }
      ]
    },
    {
      "cell_type": "code",
      "metadata": {
        "id": "BvsL2gqvPxyp",
        "colab_type": "code",
        "colab": {
          "base_uri": "https://localhost:8080/",
          "height": 55
        },
        "outputId": "1acae1ed-295c-4761-928d-e7bf192b8623"
      },
      "source": [
        "import GetOldTweets3 as got\n",
        "tweetCriteria = got.manager.TweetCriteria().setQuerySearch('covid')\\\n",
        "                                           .setSince(\"2019-11-01\")\\\n",
        "                                           .setUntil(\"2020-07-01\")\\\n",
        "                                           .setMaxTweets(1)\n",
        "tweet = got.manager.TweetManager.getTweets(tweetCriteria)[0]\n",
        "print(tweet.text)\n"
      ],
      "execution_count": 9,
      "outputs": [
        {
          "output_type": "stream",
          "text": [
            "I don’t know the facts or do I have proof but I feel as though Covid is actually created in a lab in China, you are knowingly spreading it due to poor leadership and you and China are somehow profiting from it. The hate is all a front. If your angry do something about it.\n"
          ],
          "name": "stdout"
        }
      ]
    }
  ]
}