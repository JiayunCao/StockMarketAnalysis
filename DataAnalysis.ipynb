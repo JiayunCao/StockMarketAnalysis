{
  "nbformat": 4,
  "nbformat_minor": 0,
  "metadata": {
    "colab": {
      "name": "DataAnalysis.ipynb",
      "provenance": [],
      "include_colab_link": true
    },
    "kernelspec": {
      "name": "python3",
      "display_name": "Python 3"
    }
  },
  "cells": [
    {
      "cell_type": "markdown",
      "metadata": {
        "id": "view-in-github",
        "colab_type": "text"
      },
      "source": [
        "<a href=\"https://colab.research.google.com/github/UliksSekiraqa/StockMarketAnalysis/blob/master/DataAnalysis.ipynb\" target=\"_parent\"><img src=\"https://colab.research.google.com/assets/colab-badge.svg\" alt=\"Open In Colab\"/></a>"
      ]
    },
    {
      "cell_type": "code",
      "metadata": {
        "id": "f7RNy2GGJRS-",
        "colab_type": "code",
        "colab": {}
      },
      "source": [
        "#All imports go here\n",
        "#Running Python 3.6.9"
      ],
      "execution_count": null,
      "outputs": []
    },
    {
      "cell_type": "markdown",
      "metadata": {
        "id": "3Lt8PTYB19CJ",
        "colab_type": "text"
      },
      "source": [
        "\n",
        "This section is for grabbing data using certain APIs"
      ]
    },
    {
      "cell_type": "code",
      "metadata": {
        "id": "RtgjQC_BJKch",
        "colab_type": "code",
        "colab": {}
      },
      "source": [
        "#Information queried will pertain to these stock indexes:\n",
        "#Dow Jones, USA\n",
        "#NASDAQ, USA\n",
        "#S&P 500, USA\n",
        "#S&P/TSX, Canada\n",
        "#DAX, Germany\n",
        "#FTSE 100, UK\n",
        "#Shanghai, China\n",
        "#Nikkei 225, Japan\n",
        "#S&P ASX 60, Australia\n",
        "#BSE Sensex, India\n",
        "#Euro Stoxx 50, Europe"
      ],
      "execution_count": null,
      "outputs": []
    },
    {
      "cell_type": "markdown",
      "metadata": {
        "id": "FzEG9ucDJKtv",
        "colab_type": "text"
      },
      "source": [
        "This section is for plotting the data onto graphs\n"
      ]
    },
    {
      "cell_type": "code",
      "metadata": {
        "id": "XPoXAj7KJQiu",
        "colab_type": "code",
        "colab": {}
      },
      "source": [
        ""
      ],
      "execution_count": null,
      "outputs": []
    }
  ]
}