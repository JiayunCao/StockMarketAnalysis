{
  "nbformat": 4,
  "nbformat_minor": 0,
  "metadata": {
    "colab": {
      "name": "DataAnalysis.ipynb",
      "provenance": [],
      "collapsed_sections": [],
      "toc_visible": true,
      "include_colab_link": true
    },
    "kernelspec": {
      "name": "python3",
      "display_name": "Python 3"
    }
  },
  "cells": [
    {
      "cell_type": "markdown",
      "metadata": {
        "id": "view-in-github",
        "colab_type": "text"
      },
      "source": [
        "<a href=\"https://colab.research.google.com/github/UliksSekiraqa/StockMarketAnalysis/blob/master/DataAnalysis.ipynb\" target=\"_parent\"><img src=\"https://colab.research.google.com/assets/colab-badge.svg\" alt=\"Open In Colab\"/></a>"
      ]
    },
    {
      "cell_type": "markdown",
      "metadata": {
        "id": "GLpeM1sdChlW",
        "colab_type": "text"
      },
      "source": [
        "##All imports go here"
      ]
    },
    {
      "cell_type": "code",
      "metadata": {
        "id": "f7RNy2GGJRS-",
        "colab_type": "code",
        "colab": {
          "base_uri": "https://localhost:8080/",
          "height": 457
        },
        "outputId": "42f784b9-9f96-48cc-d8c0-4660b77c816b"
      },
      "source": [
        "#Running Python 3.6.9\n",
        "# ALTGA3K77UQA49VX\n",
        "import matplotlib.pyplot as plt\n",
        "import numpy as np\n",
        "import requests\n",
        "import pandas as pd\n",
        "import matplotlib.pyplot as plt\n",
        "import datetime\n",
        "import os\n",
        "!pip install alpha_vantage\n",
        "import alpha_vantage as av\n",
        "from alpha_vantage.timeseries import TimeSeries\n",
        "!pip install yfinance\n",
        "import yfinance as yf"
      ],
      "execution_count": null,
      "outputs": [
        {
          "output_type": "stream",
          "text": [
            "Requirement already satisfied: alpha_vantage in /usr/local/lib/python3.6/dist-packages (2.2.0)\n",
            "Requirement already satisfied: aiohttp in /usr/local/lib/python3.6/dist-packages (from alpha_vantage) (3.6.2)\n",
            "Requirement already satisfied: requests in /usr/local/lib/python3.6/dist-packages (from alpha_vantage) (2.23.0)\n",
            "Requirement already satisfied: idna-ssl>=1.0; python_version < \"3.7\" in /usr/local/lib/python3.6/dist-packages (from aiohttp->alpha_vantage) (1.1.0)\n",
            "Requirement already satisfied: chardet<4.0,>=2.0 in /usr/local/lib/python3.6/dist-packages (from aiohttp->alpha_vantage) (3.0.4)\n",
            "Requirement already satisfied: attrs>=17.3.0 in /usr/local/lib/python3.6/dist-packages (from aiohttp->alpha_vantage) (19.3.0)\n",
            "Requirement already satisfied: typing-extensions>=3.6.5; python_version < \"3.7\" in /usr/local/lib/python3.6/dist-packages (from aiohttp->alpha_vantage) (3.6.6)\n",
            "Requirement already satisfied: async-timeout<4.0,>=3.0 in /usr/local/lib/python3.6/dist-packages (from aiohttp->alpha_vantage) (3.0.1)\n",
            "Requirement already satisfied: multidict<5.0,>=4.5 in /usr/local/lib/python3.6/dist-packages (from aiohttp->alpha_vantage) (4.7.6)\n",
            "Requirement already satisfied: yarl<2.0,>=1.0 in /usr/local/lib/python3.6/dist-packages (from aiohttp->alpha_vantage) (1.4.2)\n",
            "Requirement already satisfied: certifi>=2017.4.17 in /usr/local/lib/python3.6/dist-packages (from requests->alpha_vantage) (2020.6.20)\n",
            "Requirement already satisfied: urllib3!=1.25.0,!=1.25.1,<1.26,>=1.21.1 in /usr/local/lib/python3.6/dist-packages (from requests->alpha_vantage) (1.24.3)\n",
            "Requirement already satisfied: idna<3,>=2.5 in /usr/local/lib/python3.6/dist-packages (from requests->alpha_vantage) (2.10)\n",
            "Requirement already satisfied: yfinance in /usr/local/lib/python3.6/dist-packages (0.1.54)\n",
            "Requirement already satisfied: numpy>=1.15 in /usr/local/lib/python3.6/dist-packages (from yfinance) (1.18.5)\n",
            "Requirement already satisfied: pandas>=0.24 in /usr/local/lib/python3.6/dist-packages (from yfinance) (1.0.5)\n",
            "Requirement already satisfied: multitasking>=0.0.7 in /usr/local/lib/python3.6/dist-packages (from yfinance) (0.0.9)\n",
            "Requirement already satisfied: requests>=2.20 in /usr/local/lib/python3.6/dist-packages (from yfinance) (2.23.0)\n",
            "Requirement already satisfied: pytz>=2017.2 in /usr/local/lib/python3.6/dist-packages (from pandas>=0.24->yfinance) (2018.9)\n",
            "Requirement already satisfied: python-dateutil>=2.6.1 in /usr/local/lib/python3.6/dist-packages (from pandas>=0.24->yfinance) (2.8.1)\n",
            "Requirement already satisfied: certifi>=2017.4.17 in /usr/local/lib/python3.6/dist-packages (from requests>=2.20->yfinance) (2020.6.20)\n",
            "Requirement already satisfied: chardet<4,>=3.0.2 in /usr/local/lib/python3.6/dist-packages (from requests>=2.20->yfinance) (3.0.4)\n",
            "Requirement already satisfied: idna<3,>=2.5 in /usr/local/lib/python3.6/dist-packages (from requests>=2.20->yfinance) (2.10)\n",
            "Requirement already satisfied: urllib3!=1.25.0,!=1.25.1,<1.26,>=1.21.1 in /usr/local/lib/python3.6/dist-packages (from requests>=2.20->yfinance) (1.24.3)\n",
            "Requirement already satisfied: six>=1.5 in /usr/local/lib/python3.6/dist-packages (from python-dateutil>=2.6.1->pandas>=0.24->yfinance) (1.12.0)\n"
          ],
          "name": "stdout"
        }
      ]
    },
    {
      "cell_type": "markdown",
      "metadata": {
        "id": "heb2OGGPxUHe",
        "colab_type": "text"
      },
      "source": [
        "## Information queried will pertain to these stock indexes:\n",
        "Dow Jones, USA\n",
        "NASDAQ, USA\n",
        "S&P 500, USA\n",
        "S&P/TSX, Canada\n",
        "DAX, Germany\n",
        "FTSE 100, UK\n",
        "Shanghai, China\n",
        "Nikkei 225, Japan\n",
        "S&P ASX 60, Australia\n",
        "BSE Sensex, India\n",
        "Euro Stoxx 50, Europe"
      ]
    },
    {
      "cell_type": "markdown",
      "metadata": {
        "id": "3Lt8PTYB19CJ",
        "colab_type": "text"
      },
      "source": [
        "##This section is for grabbing data using certain APIs"
      ]
    },
    {
      "cell_type": "code",
      "metadata": {
        "id": "Wo9TI3NsGycc",
        "colab_type": "code",
        "colab": {}
      },
      "source": [
        "#Alpha Vantage code starts here\n",
        "\n",
        "#from alpha_vantage.timeseries import TimeSeries\n",
        "\n",
        "def get_from_alpha_vantage(company_symbol:str):\n",
        "  \n",
        "    ts = TimeSeries(key='ALTGA3K77UQA49VX', output_format='pandas', indexing_type='date')\n",
        "    data, meta_data = ts.get_daily_adjusted(symbol=company_symbol, outputsize='full')\n",
        "    start_date = datetime.datetime(2019, 11, 1)\n",
        "    end_date = datetime.datetime(2020, 6, 30)\n",
        "    filtered_data = data.loc[data.index.values >= np.datetime64(start_date)]\n",
        "    filtered_data = data.loc[data.index.values <= np.datetime64(end_date)]\n",
        "    filtered_data = filtered_data[['5. adjusted close']]\n",
        "    filtered_data.columns = ['adj_close']\n",
        "    #filtered_data.to_csv('equity_data.csv')\n",
        "    return filtered_data"
      ],
      "execution_count": null,
      "outputs": []
    },
    {
      "cell_type": "code",
      "metadata": {
        "id": "QOcqca-vjfi7",
        "colab_type": "code",
        "colab": {}
      },
      "source": [
        "JPM = get_from_alpha_vantage('JPM')\n",
        "JPM.to_csv('JPM.csv')\n",
        "AXP = get_from_alpha_vantage('AXP')\n",
        "AXP.to_csv('AXP.csv')\n",
        "WFC = get_from_alpha_vantage('WFC')\n",
        "WFC.to_csv('WFC.csv')\n",
        "MS = get_from_alpha_vantage('MS')\n",
        "MS.to_csv('MS.csv')"
      ],
      "execution_count": null,
      "outputs": []
    },
    {
      "cell_type": "code",
      "metadata": {
        "id": "zI7aIuIOs9V5",
        "colab_type": "code",
        "colab": {}
      },
      "source": [
        "HSBA = get_from_alpha_vantage('LON:HSBA')\n",
        "HSBA.to_csv('HSBA.csv')\n",
        "BNC = get_from_alpha_vantage('LON:BNC')\n",
        "BNC.to_csv('BNC.csv')\n",
        "LLOY = get_from_alpha_vantage('LON:LLOY')\n",
        "LLOY.to_csv('LLOY.csv')\n",
        "RBS = get_from_alpha_vantage('LON:RBS')\n",
        "RBS.to_csv('RBS.csv')"
      ],
      "execution_count": null,
      "outputs": []
    },
    {
      "cell_type": "code",
      "metadata": {
        "id": "1UP-lYo-vGOK",
        "colab_type": "code",
        "colab": {
          "base_uri": "https://localhost:8080/",
          "height": 155
        },
        "outputId": "7c216e13-ece7-4201-b2ae-82b241542963"
      },
      "source": [
        "print(len(JPM))\n",
        "print(len(AXP))\n",
        "print(len(WFC))\n",
        "print(len(MS))\n",
        "print(len(HSBA))\n",
        "print(len(BNC))\n",
        "print(len(LLOY))\n",
        "print(len(RBS))"
      ],
      "execution_count": null,
      "outputs": [
        {
          "output_type": "stream",
          "text": [
            "5024\n",
            "5024\n",
            "5024\n",
            "5024\n",
            "3915\n",
            "3914\n",
            "3915\n",
            "3915\n"
          ],
          "name": "stdout"
        }
      ]
    },
    {
      "cell_type": "code",
      "metadata": {
        "id": "JVmeFm2UdeRd",
        "colab_type": "code",
        "colab": {
          "base_uri": "https://localhost:8080/",
          "height": 397
        },
        "outputId": "02d73167-060a-4c5e-cd41-98f34c3c7614"
      },
      "source": [
        "equities_names = ['JPM','AXP','WFC','MS','LON:HSBA','LON:BNC','LON:LLOY','LON:RBS']\n",
        "\n",
        "equities = JPM\n",
        "equities['AXP'] = AXP.values\n",
        "equities['WFC'] = WFC.values\n",
        "equities['MS'] = MS.values\n",
        "equities['LON:HSBA'] = HSBA.values\n",
        "equities['LON:BNC'] = BNC.values\n",
        "equities['LON:LLOY'] = LLOY.values\n",
        "equities['LON:RBS'] = RBS.values\n",
        "\n",
        "equities.columns.values = equities_names\n",
        "equities"
      ],
      "execution_count": null,
      "outputs": [
        {
          "output_type": "error",
          "ename": "ValueError",
          "evalue": "ignored",
          "traceback": [
            "\u001b[0;31m---------------------------------------------------------------------------\u001b[0m",
            "\u001b[0;31mValueError\u001b[0m                                Traceback (most recent call last)",
            "\u001b[0;32m<ipython-input-118-bc0676e1fac5>\u001b[0m in \u001b[0;36m<module>\u001b[0;34m()\u001b[0m\n\u001b[1;32m      5\u001b[0m \u001b[0mequities\u001b[0m\u001b[0;34m[\u001b[0m\u001b[0;34m'WFC'\u001b[0m\u001b[0;34m]\u001b[0m \u001b[0;34m=\u001b[0m \u001b[0mWFC\u001b[0m\u001b[0;34m.\u001b[0m\u001b[0mvalues\u001b[0m\u001b[0;34m\u001b[0m\u001b[0;34m\u001b[0m\u001b[0m\n\u001b[1;32m      6\u001b[0m \u001b[0mequities\u001b[0m\u001b[0;34m[\u001b[0m\u001b[0;34m'MS'\u001b[0m\u001b[0;34m]\u001b[0m \u001b[0;34m=\u001b[0m \u001b[0mMS\u001b[0m\u001b[0;34m.\u001b[0m\u001b[0mvalues\u001b[0m\u001b[0;34m\u001b[0m\u001b[0;34m\u001b[0m\u001b[0m\n\u001b[0;32m----> 7\u001b[0;31m \u001b[0mequities\u001b[0m\u001b[0;34m[\u001b[0m\u001b[0;34m'LON:HSBA'\u001b[0m\u001b[0;34m]\u001b[0m \u001b[0;34m=\u001b[0m \u001b[0mHSBA\u001b[0m\u001b[0;34m.\u001b[0m\u001b[0mvalues\u001b[0m\u001b[0;34m\u001b[0m\u001b[0;34m\u001b[0m\u001b[0m\n\u001b[0m\u001b[1;32m      8\u001b[0m \u001b[0mequities\u001b[0m\u001b[0;34m[\u001b[0m\u001b[0;34m'LON:BNC'\u001b[0m\u001b[0;34m]\u001b[0m \u001b[0;34m=\u001b[0m \u001b[0mBNC\u001b[0m\u001b[0;34m.\u001b[0m\u001b[0mvalues\u001b[0m\u001b[0;34m\u001b[0m\u001b[0;34m\u001b[0m\u001b[0m\n\u001b[1;32m      9\u001b[0m \u001b[0mequities\u001b[0m\u001b[0;34m[\u001b[0m\u001b[0;34m'LON:LLOY'\u001b[0m\u001b[0;34m]\u001b[0m \u001b[0;34m=\u001b[0m \u001b[0mLLOY\u001b[0m\u001b[0;34m.\u001b[0m\u001b[0mvalues\u001b[0m\u001b[0;34m\u001b[0m\u001b[0;34m\u001b[0m\u001b[0m\n",
            "\u001b[0;32m/usr/local/lib/python3.6/dist-packages/pandas/core/frame.py\u001b[0m in \u001b[0;36m__setitem__\u001b[0;34m(self, key, value)\u001b[0m\n\u001b[1;32m   2936\u001b[0m         \u001b[0;32melse\u001b[0m\u001b[0;34m:\u001b[0m\u001b[0;34m\u001b[0m\u001b[0;34m\u001b[0m\u001b[0m\n\u001b[1;32m   2937\u001b[0m             \u001b[0;31m# set column\u001b[0m\u001b[0;34m\u001b[0m\u001b[0;34m\u001b[0m\u001b[0;34m\u001b[0m\u001b[0m\n\u001b[0;32m-> 2938\u001b[0;31m             \u001b[0mself\u001b[0m\u001b[0;34m.\u001b[0m\u001b[0m_set_item\u001b[0m\u001b[0;34m(\u001b[0m\u001b[0mkey\u001b[0m\u001b[0;34m,\u001b[0m \u001b[0mvalue\u001b[0m\u001b[0;34m)\u001b[0m\u001b[0;34m\u001b[0m\u001b[0;34m\u001b[0m\u001b[0m\n\u001b[0m\u001b[1;32m   2939\u001b[0m \u001b[0;34m\u001b[0m\u001b[0m\n\u001b[1;32m   2940\u001b[0m     \u001b[0;32mdef\u001b[0m \u001b[0m_setitem_slice\u001b[0m\u001b[0;34m(\u001b[0m\u001b[0mself\u001b[0m\u001b[0;34m,\u001b[0m \u001b[0mkey\u001b[0m\u001b[0;34m,\u001b[0m \u001b[0mvalue\u001b[0m\u001b[0;34m)\u001b[0m\u001b[0;34m:\u001b[0m\u001b[0;34m\u001b[0m\u001b[0;34m\u001b[0m\u001b[0m\n",
            "\u001b[0;32m/usr/local/lib/python3.6/dist-packages/pandas/core/frame.py\u001b[0m in \u001b[0;36m_set_item\u001b[0;34m(self, key, value)\u001b[0m\n\u001b[1;32m   2998\u001b[0m \u001b[0;34m\u001b[0m\u001b[0m\n\u001b[1;32m   2999\u001b[0m         \u001b[0mself\u001b[0m\u001b[0;34m.\u001b[0m\u001b[0m_ensure_valid_index\u001b[0m\u001b[0;34m(\u001b[0m\u001b[0mvalue\u001b[0m\u001b[0;34m)\u001b[0m\u001b[0;34m\u001b[0m\u001b[0;34m\u001b[0m\u001b[0m\n\u001b[0;32m-> 3000\u001b[0;31m         \u001b[0mvalue\u001b[0m \u001b[0;34m=\u001b[0m \u001b[0mself\u001b[0m\u001b[0;34m.\u001b[0m\u001b[0m_sanitize_column\u001b[0m\u001b[0;34m(\u001b[0m\u001b[0mkey\u001b[0m\u001b[0;34m,\u001b[0m \u001b[0mvalue\u001b[0m\u001b[0;34m)\u001b[0m\u001b[0;34m\u001b[0m\u001b[0;34m\u001b[0m\u001b[0m\n\u001b[0m\u001b[1;32m   3001\u001b[0m         \u001b[0mNDFrame\u001b[0m\u001b[0;34m.\u001b[0m\u001b[0m_set_item\u001b[0m\u001b[0;34m(\u001b[0m\u001b[0mself\u001b[0m\u001b[0;34m,\u001b[0m \u001b[0mkey\u001b[0m\u001b[0;34m,\u001b[0m \u001b[0mvalue\u001b[0m\u001b[0;34m)\u001b[0m\u001b[0;34m\u001b[0m\u001b[0;34m\u001b[0m\u001b[0m\n\u001b[1;32m   3002\u001b[0m \u001b[0;34m\u001b[0m\u001b[0m\n",
            "\u001b[0;32m/usr/local/lib/python3.6/dist-packages/pandas/core/frame.py\u001b[0m in \u001b[0;36m_sanitize_column\u001b[0;34m(self, key, value, broadcast)\u001b[0m\n\u001b[1;32m   3634\u001b[0m \u001b[0;34m\u001b[0m\u001b[0m\n\u001b[1;32m   3635\u001b[0m             \u001b[0;31m# turn me into an ndarray\u001b[0m\u001b[0;34m\u001b[0m\u001b[0;34m\u001b[0m\u001b[0;34m\u001b[0m\u001b[0m\n\u001b[0;32m-> 3636\u001b[0;31m             \u001b[0mvalue\u001b[0m \u001b[0;34m=\u001b[0m \u001b[0msanitize_index\u001b[0m\u001b[0;34m(\u001b[0m\u001b[0mvalue\u001b[0m\u001b[0;34m,\u001b[0m \u001b[0mself\u001b[0m\u001b[0;34m.\u001b[0m\u001b[0mindex\u001b[0m\u001b[0;34m,\u001b[0m \u001b[0mcopy\u001b[0m\u001b[0;34m=\u001b[0m\u001b[0;32mFalse\u001b[0m\u001b[0;34m)\u001b[0m\u001b[0;34m\u001b[0m\u001b[0;34m\u001b[0m\u001b[0m\n\u001b[0m\u001b[1;32m   3637\u001b[0m             \u001b[0;32mif\u001b[0m \u001b[0;32mnot\u001b[0m \u001b[0misinstance\u001b[0m\u001b[0;34m(\u001b[0m\u001b[0mvalue\u001b[0m\u001b[0;34m,\u001b[0m \u001b[0;34m(\u001b[0m\u001b[0mnp\u001b[0m\u001b[0;34m.\u001b[0m\u001b[0mndarray\u001b[0m\u001b[0;34m,\u001b[0m \u001b[0mIndex\u001b[0m\u001b[0;34m)\u001b[0m\u001b[0;34m)\u001b[0m\u001b[0;34m:\u001b[0m\u001b[0;34m\u001b[0m\u001b[0;34m\u001b[0m\u001b[0m\n\u001b[1;32m   3638\u001b[0m                 \u001b[0;32mif\u001b[0m \u001b[0misinstance\u001b[0m\u001b[0;34m(\u001b[0m\u001b[0mvalue\u001b[0m\u001b[0;34m,\u001b[0m \u001b[0mlist\u001b[0m\u001b[0;34m)\u001b[0m \u001b[0;32mand\u001b[0m \u001b[0mlen\u001b[0m\u001b[0;34m(\u001b[0m\u001b[0mvalue\u001b[0m\u001b[0;34m)\u001b[0m \u001b[0;34m>\u001b[0m \u001b[0;36m0\u001b[0m\u001b[0;34m:\u001b[0m\u001b[0;34m\u001b[0m\u001b[0;34m\u001b[0m\u001b[0m\n",
            "\u001b[0;32m/usr/local/lib/python3.6/dist-packages/pandas/core/internals/construction.py\u001b[0m in \u001b[0;36msanitize_index\u001b[0;34m(data, index, copy)\u001b[0m\n\u001b[1;32m    609\u001b[0m \u001b[0;34m\u001b[0m\u001b[0m\n\u001b[1;32m    610\u001b[0m     \u001b[0;32mif\u001b[0m \u001b[0mlen\u001b[0m\u001b[0;34m(\u001b[0m\u001b[0mdata\u001b[0m\u001b[0;34m)\u001b[0m \u001b[0;34m!=\u001b[0m \u001b[0mlen\u001b[0m\u001b[0;34m(\u001b[0m\u001b[0mindex\u001b[0m\u001b[0;34m)\u001b[0m\u001b[0;34m:\u001b[0m\u001b[0;34m\u001b[0m\u001b[0;34m\u001b[0m\u001b[0m\n\u001b[0;32m--> 611\u001b[0;31m         \u001b[0;32mraise\u001b[0m \u001b[0mValueError\u001b[0m\u001b[0;34m(\u001b[0m\u001b[0;34m\"Length of values does not match length of index\"\u001b[0m\u001b[0;34m)\u001b[0m\u001b[0;34m\u001b[0m\u001b[0;34m\u001b[0m\u001b[0m\n\u001b[0m\u001b[1;32m    612\u001b[0m \u001b[0;34m\u001b[0m\u001b[0m\n\u001b[1;32m    613\u001b[0m     \u001b[0;32mif\u001b[0m \u001b[0misinstance\u001b[0m\u001b[0;34m(\u001b[0m\u001b[0mdata\u001b[0m\u001b[0;34m,\u001b[0m \u001b[0mABCIndexClass\u001b[0m\u001b[0;34m)\u001b[0m \u001b[0;32mand\u001b[0m \u001b[0;32mnot\u001b[0m \u001b[0mcopy\u001b[0m\u001b[0;34m:\u001b[0m\u001b[0;34m\u001b[0m\u001b[0;34m\u001b[0m\u001b[0m\n",
            "\u001b[0;31mValueError\u001b[0m: Length of values does not match length of index"
          ]
        }
      ]
    },
    {
      "cell_type": "markdown",
      "metadata": {
        "id": "O1p9NvlbeN5D",
        "colab_type": "text"
      },
      "source": [
        "## Scraping data from yahoo finance\n"
      ]
    },
    {
      "cell_type": "markdown",
      "metadata": {
        "id": "ubguK0q4rygM",
        "colab_type": "text"
      },
      "source": [
        "# Shanghai Stock Exchange"
      ]
    },
    {
      "cell_type": "code",
      "metadata": {
        "id": "Hvti5xvBNESQ",
        "colab_type": "code",
        "colab": {
          "base_uri": "https://localhost:8080/",
          "height": 275
        },
        "outputId": "0b243d90-3528-4e09-d5ca-5b35f5b14be8"
      },
      "source": [
        "#yfinance code starts here\n",
        "import pandas as pd\n",
        "from pandas_datareader import data as pdr\n",
        "#nasdaq = yf.Ticker(\"^IXIC\")\n",
        "#print(nasdaq.info)\n",
        "#hist =nasdaq.history(period=\"1y\")\n",
        "#print(hist)\n",
        "yf.pdr_override\n",
        "df = pdr.get_data_yahoo(\"000001.SS\", start = \"2019-01-01\", end = \"2020-07-01\")\n",
        "#df.head()\n",
        "new_df = pd.DataFrame(df,columns=[\"Close\"])\n",
        "new_df\n",
        "new_df.to_csv(\"sse.csv\")"
      ],
      "execution_count": null,
      "outputs": [
        {
          "output_type": "stream",
          "text": [
            "                  Close\n",
            "Date                   \n",
            "2019-01-02  2465.291016\n",
            "2019-01-03  2464.363037\n",
            "2019-01-04  2514.867920\n",
            "2019-01-07  2533.089111\n",
            "2019-01-08  2526.461914\n",
            "...                 ...\n",
            "2020-06-24  2979.551025\n",
            "2020-06-29  2961.516113\n",
            "2020-06-30  2984.674072\n",
            "2020-07-01  3025.980957\n",
            "2020-07-02  3090.569092\n",
            "\n",
            "[360 rows x 1 columns]\n"
          ],
          "name": "stdout"
        }
      ]
    },
    {
      "cell_type": "markdown",
      "metadata": {
        "id": "ChRFKbbelb54",
        "colab_type": "text"
      },
      "source": [
        "###SP500\n"
      ]
    },
    {
      "cell_type": "code",
      "metadata": {
        "id": "A3nICgNicsaJ",
        "colab_type": "code",
        "colab": {
          "base_uri": "https://localhost:8080/",
          "height": 138
        },
        "outputId": "bd0d9eab-b9c8-46a5-a89f-96740d68dfeb"
      },
      "source": [
        "# Scraping index data from various countries and saving it in their specific variable names\n",
        "USA_SP500 = yf.Ticker(\"^GSPC\").history(period=\"1y\")\n",
        "USA_SP500 = USA_SP500[['Close']]\n",
        "new_df= pd.DataFrame(USA_SP500,columns=[\"Close\"])\n",
        "print(new_df.head())\n",
        "new_df.to_csv(\"SP500.csv\")\n",
        "\n",
        "\n"
      ],
      "execution_count": null,
      "outputs": [
        {
          "output_type": "stream",
          "text": [
            "              Close\n",
            "Date               \n",
            "2019-07-15  3014.30\n",
            "2019-07-16  3004.04\n",
            "2019-07-17  2984.42\n",
            "2019-07-18  2995.11\n",
            "2019-07-19  2976.61\n"
          ],
          "name": "stdout"
        }
      ]
    },
    {
      "cell_type": "markdown",
      "metadata": {
        "id": "IVTHxG5elkMV",
        "colab_type": "text"
      },
      "source": [
        "###NASDAQ"
      ]
    },
    {
      "cell_type": "code",
      "metadata": {
        "id": "DnqHz0Q9dj5k",
        "colab_type": "code",
        "colab": {
          "base_uri": "https://localhost:8080/",
          "height": 431
        },
        "outputId": "8c1ac8b6-1a51-41a0-d1dd-9d3439ad9e8d"
      },
      "source": [
        "USA_NAS = yf.Ticker(\"^IXIC\").history(period=\"1y\")\n",
        "USA_NAS = USA_NAS[['Close']]\n",
        "new_df= pd.DataFrame(USA_NAS,columns=[\"Close\"])\n",
        "print(new_df.head())\n",
        "new_df.to_csv(\"nasdaq.csv\")"
      ],
      "execution_count": null,
      "outputs": [
        {
          "output_type": "execute_result",
          "data": {
            "text/html": [
              "<div>\n",
              "<style scoped>\n",
              "    .dataframe tbody tr th:only-of-type {\n",
              "        vertical-align: middle;\n",
              "    }\n",
              "\n",
              "    .dataframe tbody tr th {\n",
              "        vertical-align: top;\n",
              "    }\n",
              "\n",
              "    .dataframe thead th {\n",
              "        text-align: right;\n",
              "    }\n",
              "</style>\n",
              "<table border=\"1\" class=\"dataframe\">\n",
              "  <thead>\n",
              "    <tr style=\"text-align: right;\">\n",
              "      <th></th>\n",
              "      <th>Close</th>\n",
              "    </tr>\n",
              "    <tr>\n",
              "      <th>Date</th>\n",
              "      <th></th>\n",
              "    </tr>\n",
              "  </thead>\n",
              "  <tbody>\n",
              "    <tr>\n",
              "      <th>2019-07-15</th>\n",
              "      <td>8258.19</td>\n",
              "    </tr>\n",
              "    <tr>\n",
              "      <th>2019-07-16</th>\n",
              "      <td>8222.80</td>\n",
              "    </tr>\n",
              "    <tr>\n",
              "      <th>2019-07-17</th>\n",
              "      <td>8185.21</td>\n",
              "    </tr>\n",
              "    <tr>\n",
              "      <th>2019-07-18</th>\n",
              "      <td>8207.24</td>\n",
              "    </tr>\n",
              "    <tr>\n",
              "      <th>2019-07-19</th>\n",
              "      <td>8146.49</td>\n",
              "    </tr>\n",
              "    <tr>\n",
              "      <th>...</th>\n",
              "      <td>...</td>\n",
              "    </tr>\n",
              "    <tr>\n",
              "      <th>2020-07-07</th>\n",
              "      <td>10343.89</td>\n",
              "    </tr>\n",
              "    <tr>\n",
              "      <th>2020-07-08</th>\n",
              "      <td>10492.50</td>\n",
              "    </tr>\n",
              "    <tr>\n",
              "      <th>2020-07-09</th>\n",
              "      <td>10547.75</td>\n",
              "    </tr>\n",
              "    <tr>\n",
              "      <th>2020-07-10</th>\n",
              "      <td>10617.44</td>\n",
              "    </tr>\n",
              "    <tr>\n",
              "      <th>2020-07-13</th>\n",
              "      <td>10390.84</td>\n",
              "    </tr>\n",
              "  </tbody>\n",
              "</table>\n",
              "<p>252 rows × 1 columns</p>\n",
              "</div>"
            ],
            "text/plain": [
              "               Close\n",
              "Date                \n",
              "2019-07-15   8258.19\n",
              "2019-07-16   8222.80\n",
              "2019-07-17   8185.21\n",
              "2019-07-18   8207.24\n",
              "2019-07-19   8146.49\n",
              "...              ...\n",
              "2020-07-07  10343.89\n",
              "2020-07-08  10492.50\n",
              "2020-07-09  10547.75\n",
              "2020-07-10  10617.44\n",
              "2020-07-13  10390.84\n",
              "\n",
              "[252 rows x 1 columns]"
            ]
          },
          "metadata": {
            "tags": []
          },
          "execution_count": 16
        }
      ]
    },
    {
      "cell_type": "markdown",
      "metadata": {
        "id": "l_VHRUd4mAgx",
        "colab_type": "text"
      },
      "source": [
        "### DOW JONES"
      ]
    },
    {
      "cell_type": "code",
      "metadata": {
        "id": "IbzYg3vmmIWq",
        "colab_type": "code",
        "colab": {
          "base_uri": "https://localhost:8080/",
          "height": 136
        },
        "outputId": "3e3f34e1-aa17-4416-df73-4224a9e5de17"
      },
      "source": [
        "USA_DJ = yf.Ticker(\"DJI\").history(period=\"1y\")\n",
        "USA_DJ = USA_DJ[['Close']]\n",
        "new_df= pd.DataFrame(USA_DJ,columns=[\"Close\"])\n",
        "print(new_df.head())\n",
        "new_df.to_csv(\"Dow Jones.csv\")"
      ],
      "execution_count": null,
      "outputs": [
        {
          "output_type": "stream",
          "text": [
            "              Close\n",
            "Date               \n",
            "2019-09-27  26820.2\n",
            "2019-10-16  27002.0\n",
            "2020-01-23  29160.1\n",
            "2020-01-24  28989.7\n",
            "2020-01-27  28535.8\n"
          ],
          "name": "stdout"
        }
      ]
    },
    {
      "cell_type": "markdown",
      "metadata": {
        "id": "vtxuN15Hmp5C",
        "colab_type": "text"
      },
      "source": [
        "###NIKKEI 225"
      ]
    },
    {
      "cell_type": "code",
      "metadata": {
        "id": "z0eX25qmmslK",
        "colab_type": "code",
        "colab": {
          "base_uri": "https://localhost:8080/",
          "height": 136
        },
        "outputId": "01ce8e14-56ec-4988-9291-54f5799c9bca"
      },
      "source": [
        "nikkei = yf.Ticker(\"^N225\").history(period=\"1y\")\n",
        "nikkei = nikkei[['Close']]\n",
        "new_df= pd.DataFrame(nikkei,columns=[\"Close\"])\n",
        "print(new_df.head())\n",
        "new_df.to_csv(\"nikkei 225.csv\")"
      ],
      "execution_count": null,
      "outputs": [
        {
          "output_type": "stream",
          "text": [
            "               Close\n",
            "Date                \n",
            "2019-07-16  21535.25\n",
            "2019-07-17  21469.18\n",
            "2019-07-18  21046.24\n",
            "2019-07-19  21466.99\n",
            "2019-07-22  21416.79\n"
          ],
          "name": "stdout"
        }
      ]
    },
    {
      "cell_type": "markdown",
      "metadata": {
        "id": "5Y50Bmk-osM0",
        "colab_type": "text"
      },
      "source": [
        "###FTSE 100"
      ]
    },
    {
      "cell_type": "code",
      "metadata": {
        "id": "yyzwhyDPoraM",
        "colab_type": "code",
        "colab": {
          "base_uri": "https://localhost:8080/",
          "height": 136
        },
        "outputId": "72820a30-6062-4571-e9b8-34206704324b"
      },
      "source": [
        "ftse = yf.Ticker(\"^FTSE\").history(period=\"1y\")\n",
        "ftse = ftse[['Close']]\n",
        "new_df= pd.DataFrame(ftse,columns=[\"Close\"])\n",
        "print(new_df.head())\n",
        "new_df.to_csv(\"ftse.csv\")"
      ],
      "execution_count": null,
      "outputs": [
        {
          "output_type": "stream",
          "text": [
            "             Close\n",
            "Date              \n",
            "2019-07-15  7531.7\n",
            "2019-07-16  7577.2\n",
            "2019-07-17  7535.5\n",
            "2019-07-18  7493.1\n",
            "2019-07-19  7508.7\n"
          ],
          "name": "stdout"
        }
      ]
    },
    {
      "cell_type": "markdown",
      "metadata": {
        "id": "8YThbS6vQsM_",
        "colab_type": "text"
      },
      "source": [
        "###SSE"
      ]
    },
    {
      "cell_type": "code",
      "metadata": {
        "id": "vZ0Sm7bFRUJI",
        "colab_type": "code",
        "colab": {
          "base_uri": "https://localhost:8080/",
          "height": 136
        },
        "outputId": "a48888d3-0793-4bf0-e7a2-4e5bcd855595"
      },
      "source": [
        "SSE_data = yf.Ticker(\"000001.SS\").history(period=\"1y\")\n",
        "SSE = SSE_data[['Close']]\n",
        "new_df= pd.DataFrame(SSE,columns=[\"Close\"])\n",
        "print(new_df.head())\n",
        "new_df.to_csv(\"sse.csv\")"
      ],
      "execution_count": null,
      "outputs": [
        {
          "output_type": "stream",
          "text": [
            "              Close\n",
            "Date               \n",
            "2019-07-15  2942.19\n",
            "2019-07-16  2937.62\n",
            "2019-07-17  2931.69\n",
            "2019-07-18  2901.18\n",
            "2019-07-19  2924.20\n"
          ],
          "name": "stdout"
        }
      ]
    },
    {
      "cell_type": "markdown",
      "metadata": {
        "id": "YRK85pNlRipJ",
        "colab_type": "text"
      },
      "source": [
        "###EURO STOXX 50"
      ]
    },
    {
      "cell_type": "code",
      "metadata": {
        "id": "3qJSKLTtScdY",
        "colab_type": "code",
        "colab": {
          "base_uri": "https://localhost:8080/",
          "height": 136
        },
        "outputId": "a18edfac-97b6-4106-c393-b2626d64afd8"
      },
      "source": [
        "euro_stoxx = yf.Ticker(\"^STOXX50E\").history(period=\"1y\")\n",
        "euro = euro_stoxx[['Close']]\n",
        "\n",
        "new_df= pd.DataFrame(euro,columns=[\"Close\"])\n",
        "print(new_df.head())\n",
        "new_df.to_csv(\"euro.csv\")"
      ],
      "execution_count": null,
      "outputs": [
        {
          "output_type": "stream",
          "text": [
            "              Close\n",
            "Date               \n",
            "2019-07-15  3502.22\n",
            "2019-07-16  3521.36\n",
            "2019-07-17  3501.58\n",
            "2019-07-18  3482.83\n",
            "2019-07-19  3480.18\n"
          ],
          "name": "stdout"
        }
      ]
    },
    {
      "cell_type": "markdown",
      "metadata": {
        "id": "FmN4zCZsSpnf",
        "colab_type": "text"
      },
      "source": [
        "###DAX"
      ]
    },
    {
      "cell_type": "code",
      "metadata": {
        "id": "KENVBCvlSsbk",
        "colab_type": "code",
        "colab": {
          "base_uri": "https://localhost:8080/",
          "height": 136
        },
        "outputId": "daf8aae7-3123-4fc4-beca-04ed48387c64"
      },
      "source": [
        "dax_germany = yf.Ticker(\"^GDAXI\").history(period=\"1y\")\n",
        "dax = dax_germany[['Close']]\n",
        "new_df= pd.DataFrame(dax,columns=[\"Close\"])\n",
        "print(new_df.head())\n",
        "new_df.to_csv(\"dax.csv\")"
      ],
      "execution_count": null,
      "outputs": [
        {
          "output_type": "stream",
          "text": [
            "               Close\n",
            "Date                \n",
            "2019-07-15  12387.34\n",
            "2019-07-16  12430.97\n",
            "2019-07-17  12341.03\n",
            "2019-07-18  12227.85\n",
            "2019-07-19  12260.07\n"
          ],
          "name": "stdout"
        }
      ]
    },
    {
      "cell_type": "markdown",
      "metadata": {
        "id": "e-fxGM0hgG0K",
        "colab_type": "text"
      },
      "source": [
        "### Read all Stocks"
      ]
    },
    {
      "cell_type": "code",
      "metadata": {
        "id": "9hIdmkdTgPEz",
        "colab_type": "code",
        "colab": {
          "base_uri": "https://localhost:8080/",
          "height": 272
        },
        "outputId": "9c47fd60-675f-4673-8321-fd59fb072bc4"
      },
      "source": [
        "\"\"\"\n",
        "!pip install yfinance\n",
        "import yfinance as yf\n",
        "import requests\n",
        "import numpy as np\n",
        "import pandas as pd \n",
        "import matplotlib.pyplot as plt\n",
        "import datetime\n",
        "import os\n",
        "\"\"\"\n",
        "def readAllStocks():\n",
        "    ftse = yf.Ticker(\"^FTSE\").history(period=\"1y\")\n",
        "    dax_germany = yf.Ticker(\"^GDAXI\").history(period=\"1y\")\n",
        "    euro_stoxx = yf.Ticker(\"^STOXX50E\").history(period=\"1y\")\n",
        "    SSE_data =  yf.Ticker(\"000001.SS\").history(period=\"1y\")\n",
        "    USA_NAS = yf.Ticker(\"^IXIC\").history(period=\"1y\")\n",
        "    USA_DJ = yf.Ticker(\"DJI\").history(period=\"1y\")\n",
        "    USA_SP500 = yf.Ticker(\"^GSPC\").history(period=\"1y\")\n",
        "    nikkei = yf.Ticker(\"^N225\").history(period=\"1y\")\n",
        "    '''\n",
        "       print(ftse.head())\n",
        "    print(dax_germany.head())\n",
        "    print(euro_stoxx.head())\n",
        "    print(SSE_data.head())\n",
        "    print(USA_NAS.head())\n",
        "    print(USA_DJ.head())\n",
        "    print(USA_SP500.head())\n",
        "    print(nikkei.head())\n",
        "    '''\n",
        " \n",
        "    \n",
        "    new_df = pd.DataFrame(ftse, columns=[\"Close\"])\n",
        "    new1_df = pd.DataFrame(dax_germany, columns=[\"Close\"])\n",
        "    new2_df = pd.DataFrame(euro_stoxx, columns=[\"Close\"])\n",
        "    new3_df = pd.DataFrame(SSE_data, columns=[\"Close\"])\n",
        "    new4_df = pd.DataFrame(USA_NAS, columns=[\"Close\"])\n",
        "    new5_df = pd.DataFrame(USA_DJ, columns=[\"Close\"])\n",
        "    new6_df = pd.DataFrame(USA_SP500, columns=[\"Close\"])\n",
        "    new7_df = pd.DataFrame(nikkei, columns=[\"Close\"])\n",
        "\n",
        "    \n",
        "    frames =[new_df,new1_df,new2_df,new3_df,new4_df,new5_df,new6_df,new7_df]\n",
        "   \n",
        "    result = pd.concat(frames)\n",
        "    print(result)\n",
        "    result.to_csv(\"result.csv\")\n",
        "    \n",
        "    \n",
        "readAllStocks()"
      ],
      "execution_count": null,
      "outputs": [
        {
          "output_type": "stream",
          "text": [
            "               Close\n",
            "Date                \n",
            "2019-07-15   7531.70\n",
            "2019-07-16   7577.20\n",
            "2019-07-17   7535.50\n",
            "2019-07-18   7493.10\n",
            "2019-07-19   7508.70\n",
            "...              ...\n",
            "2020-07-08  22438.65\n",
            "2020-07-09  22529.29\n",
            "2020-07-10  22290.81\n",
            "2020-07-13  22784.74\n",
            "2020-07-14  22587.01\n",
            "\n",
            "[1859 rows x 1 columns]\n"
          ],
          "name": "stdout"
        }
      ]
    },
    {
      "cell_type": "markdown",
      "metadata": {
        "id": "FzEG9ucDJKtv",
        "colab_type": "text"
      },
      "source": [
        "##This section is for plotting the data onto graphs\n"
      ]
    }
  ]
}